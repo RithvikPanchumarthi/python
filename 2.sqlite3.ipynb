{
  "nbformat": 4,
  "nbformat_minor": 0,
  "metadata": {
    "colab": {
      "provenance": []
    },
    "kernelspec": {
      "name": "python3",
      "display_name": "Python 3"
    },
    "language_info": {
      "name": "python"
    }
  },
  "cells": [
    {
      "cell_type": "code",
      "execution_count": null,
      "metadata": {
        "id": "WkVYFP1oP5BL"
      },
      "outputs": [],
      "source": [
        "!pip install faker\n",
        "import sqlite3\n",
        "from faker import Faker\n",
        "\n",
        "# create a new SQLite database and a new table called \"people\"\n",
        "connection = sqlite3.connect(\"sample.db\")\n",
        "#table = 'CREATE TABLE people (id integer primary key, name TEXT, surname TEXT)'\n",
        "#cursor = connection.cursor()\n",
        "#cursor.execute(table)\n",
        "\n",
        "# generate 100 fake names using the Faker library\n",
        "fake = Faker()\n",
        "names = [fake.name().split() for i in range (100)]\n",
        "names = [name for name in names if len(name)==2]\n",
        "\n",
        "# insert the fake names into the \"people\" table\n",
        "insert_query = 'INSERT INTO people(name, surname) VALUES(?,?)'\n",
        "cursor = connection.cursor()\n",
        "for name in names:\n",
        "    cursor.execute(insert_query, name)\n",
        "\n",
        "# commit the changes to the database\n",
        "connection.commit()\n"
      ]
    },
    {
      "cell_type": "code",
      "source": [
        "# retrieve the first ten rows from the \"people\" table\n",
        "cursor = connection.cursor()\n",
        "\n",
        "select_query = 'SELECT * FROM people LIMIT 10'\n",
        "cursor.execute(select_query)\n",
        "rows = cursor.fetchall()"
      ],
      "metadata": {
        "id": "TTUklTPOQgT-"
      },
      "execution_count": null,
      "outputs": []
    },
    {
      "cell_type": "code",
      "source": [
        "# print the rows\n",
        "for row in rows:\n",
        "    print(row)"
      ],
      "metadata": {
        "id": "G5q5OFDgQhpJ"
      },
      "execution_count": null,
      "outputs": []
    },
    {
      "cell_type": "code",
      "source": [
        "surname_query = 'SELECT SURNAME FROM PEOPLE'\n",
        "for result in cursor.execute(surname_query):\n",
        "  print (result)"
      ],
      "metadata": {
        "id": "WMbvdcYLSMXF"
      },
      "execution_count": null,
      "outputs": []
    },
    {
      "cell_type": "code",
      "source": [
        "name_desc_query = 'SELECT name,surname FROM PEOPLE ORDER BY NAME DESC'\n",
        "for result in cursor.execute(name_desc_query):\n",
        "  print(result)"
      ],
      "metadata": {
        "id": "h2S-JVwpTvPE"
      },
      "execution_count": null,
      "outputs": []
    },
    {
      "cell_type": "code",
      "source": [
        "specific_name_desc_query = \"SELECT name,surname FROM people WHERE name = 'Susan' ORDER BY name DESC\"\n",
        "for result in cursor.execute(specific_name_desc_query):\n",
        "  print(f\"First Name: {result[0]}, \\nLast name: {result[1]}\")"
      ],
      "metadata": {
        "id": "881SFBdqUqpP"
      },
      "execution_count": null,
      "outputs": []
    },
    {
      "cell_type": "code",
      "source": [
        "select_query_for_top20 = 'SELECT * FROM people LIMIT 20'\n",
        "for result in cursor.execute(select_query_for_top20):\n",
        "  print(result)"
      ],
      "metadata": {
        "id": "JqbaeTsqXRGr"
      },
      "execution_count": null,
      "outputs": []
    },
    {
      "cell_type": "code",
      "source": [
        "s__query_using_like = 'SELECT name,surname FROM people WHERE name LIKE \"%s__\" '\n",
        "for result in cursor.execute(es_query_using_like):\n",
        "  print(result)"
      ],
      "metadata": {
        "id": "j8Ug9UsXX_mV"
      },
      "execution_count": null,
      "outputs": []
    },
    {
      "cell_type": "code",
      "source": [
        "cursor.close()\n",
        "connection.close()"
      ],
      "metadata": {
        "id": "pPpb4rTYfCOs"
      },
      "execution_count": null,
      "outputs": []
    }
  ]
}
