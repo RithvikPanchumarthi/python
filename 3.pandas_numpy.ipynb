{
  "nbformat": 4,
  "nbformat_minor": 0,
  "metadata": {
    "colab": {
      "provenance": []
    },
    "kernelspec": {
      "name": "python3",
      "display_name": "Python 3"
    },
    "language_info": {
      "name": "python"
    }
  },
  "cells": [
    {
      "cell_type": "code",
      "execution_count": null,
      "metadata": {
        "id": "zBR_NE7GiEN9"
      },
      "outputs": [],
      "source": [
        "print(\"Hello, Just checking the Colab for Python\")"
      ]
    },
    {
      "cell_type": "code",
      "source": [
        "import pandas as pd"
      ],
      "metadata": {
        "id": "rQfZNt11iSPY"
      },
      "execution_count": null,
      "outputs": []
    },
    {
      "cell_type": "code",
      "source": [
        "data = {\"Name\" : ['Rithvik','Ravi','Charan','Akhil','Srinadh'],\n",
        "    ...:         \"Age\" : [24,25,24,29,29],\n",
        "    ...:         \"Score\" : [65,65,70,68,90]\n",
        "    ...:         }"
      ],
      "metadata": {
        "id": "nAE_lx_xiVjf"
      },
      "execution_count": null,
      "outputs": []
    },
    {
      "cell_type": "code",
      "source": [
        "pd.DataFrame(data)"
      ],
      "metadata": {
        "id": "CTbWeeuGikqK"
      },
      "execution_count": null,
      "outputs": []
    },
    {
      "cell_type": "code",
      "source": [
        "data = [['Rithvik',24,65],\n",
        "    ...:['Ravi',25,65],\n",
        "    ...:['Akhil',27,98]]"
      ],
      "metadata": {
        "id": "g5u8Oom0iuZo"
      },
      "execution_count": null,
      "outputs": []
    },
    {
      "cell_type": "code",
      "source": [
        "df = pd.DataFrame(data)"
      ],
      "metadata": {
        "id": "COhORNsoi2Se"
      },
      "execution_count": null,
      "outputs": []
    },
    {
      "cell_type": "code",
      "source": [
        "df"
      ],
      "metadata": {
        "id": "3i-mxCZri7cQ"
      },
      "execution_count": null,
      "outputs": []
    },
    {
      "cell_type": "code",
      "source": [
        "pd.DataFrame(data, columns = [\"Name\",\"Age\",\"Centile\"])"
      ],
      "metadata": {
        "id": "CRn2Mnm-jDXa"
      },
      "execution_count": null,
      "outputs": []
    },
    {
      "cell_type": "code",
      "source": [
        "file_path = r\"C:\\Users\\rithv\\Downloads\\covid_worldwide.csv\"\n",
        "#Takes the path from Computer Local Disk to read Csv File"
      ],
      "metadata": {
        "id": "rQVcoYCWjmf0"
      },
      "execution_count": null,
      "outputs": []
    },
    {
      "cell_type": "code",
      "source": [
        "from google.colab import drive\n",
        "drive.mount('/content/drive')\n",
        "#Gives Ability to read CSV from Drive"
      ],
      "metadata": {
        "id": "aMNevhLTkoVe"
      },
      "execution_count": null,
      "outputs": []
    },
    {
      "cell_type": "code",
      "source": [
        "file_path = '/content/drive/MyDrive/covid_worldwide.csv'\n",
        "drive_df = pd.read_csv(file_path)"
      ],
      "metadata": {
        "id": "P-Y49C37mVRe"
      },
      "execution_count": null,
      "outputs": []
    },
    {
      "cell_type": "code",
      "source": [
        "drive_df"
      ],
      "metadata": {
        "id": "-REUEmn2nAod"
      },
      "execution_count": null,
      "outputs": []
    },
    {
      "cell_type": "code",
      "source": [
        "#Looking Data from DataFrame using Methods"
      ],
      "metadata": {
        "id": "srehnb3MnAFu"
      },
      "execution_count": null,
      "outputs": []
    },
    {
      "cell_type": "code",
      "source": [
        "drive_df.head()\n",
        "#using head it Displays first five rows of DataFrame\n",
        "#In Arguments we can specify number on how many rows we can view"
      ],
      "metadata": {
        "id": "CMHo7XoFpj70"
      },
      "execution_count": null,
      "outputs": []
    },
    {
      "cell_type": "code",
      "source": [
        "drive_df.tail()\n",
        "#using tail it Displays last five rows of DataFrame\n",
        "#In Arguments we can specify number on how many rows we can view"
      ],
      "metadata": {
        "id": "7sFwkq6BqoAK"
      },
      "execution_count": null,
      "outputs": []
    },
    {
      "cell_type": "code",
      "source": [
        "#Shaping of the Data using Descriptive Statistics of all numerical columns\n",
        "drive_df.describe()"
      ],
      "metadata": {
        "id": "_B9HyRT9rAYI"
      },
      "execution_count": null,
      "outputs": []
    },
    {
      "cell_type": "code",
      "source": [
        "drive_df.min()"
      ],
      "metadata": {
        "id": "nwuBcPJ8rnQT"
      },
      "execution_count": null,
      "outputs": []
    },
    {
      "cell_type": "code",
      "source": [
        "#Select Columns\n",
        "drive_df.columns"
      ],
      "metadata": {
        "id": "XajQVtIkrqv9"
      },
      "execution_count": null,
      "outputs": []
    },
    {
      "cell_type": "code",
      "source": [
        "drive_df[[\"Country\", \"Total Cases\"]]"
      ],
      "metadata": {
        "id": "QLkUEg-SsB2q"
      },
      "execution_count": null,
      "outputs": []
    },
    {
      "cell_type": "code",
      "source": [
        "drive_df.Country"
      ],
      "metadata": {
        "id": "cIq7pEBls4OM"
      },
      "execution_count": null,
      "outputs": []
    },
    {
      "cell_type": "code",
      "source": [
        "#Select Rows and Columns by index\n",
        "#df.iloc[range of rows,range of columns]\n",
        "#df.iloc[row_index, column_index]\n",
        "drive_df.iloc[2:5,5:8]"
      ],
      "metadata": {
        "id": "1VGcuzzStYNt"
      },
      "execution_count": null,
      "outputs": []
    },
    {
      "cell_type": "code",
      "source": [
        "drive_df.head()"
      ],
      "metadata": {
        "colab": {
          "base_uri": "https://localhost:8080/",
          "height": 339
        },
        "id": "zJvgl_mKtfzy",
        "outputId": "7eb8cccb-36ba-4832-9e7d-d28c1c1f3f2a"
      },
      "execution_count": null,
      "outputs": [
        {
          "output_type": "execute_result",
          "data": {
            "text/plain": [
              "                       level_0                  index  Serial Number  Country  \\\n",
              "Most Effective               0         Most Effective              1      USA   \n",
              "second Most Effective        1  second Most Effective              2    India   \n",
              "2                            2                      2              3   France   \n",
              "3                            3                      3              4  Germany   \n",
              "4                            4                      4              5   Brazil   \n",
              "\n",
              "                       Total Cases Total Deaths Total Recovered Active Cases  \\\n",
              "Most Effective         104,196,861    1,132,935     101,322,779    1,741,147   \n",
              "second Most Effective   44,682,784      530,740      44,150,289        1,755   \n",
              "2                       39,524,311      164,233      39,264,546       95,532   \n",
              "3                       37,779,833      165,711      37,398,100      216,022   \n",
              "4                       36,824,580      697,074      35,919,372      208,134   \n",
              "\n",
              "                          Total Test     Population  Notsupportive  \n",
              "Most Effective         1,159,832,679    334,805,269           True  \n",
              "second Most Effective    915,265,788  1,406,631,776          False  \n",
              "2                        271,490,188     65,584,518           True  \n",
              "3                        122,332,384     83,883,596           True  \n",
              "4                         63,776,166    215,353,593          False  "
            ],
            "text/html": [
              "\n",
              "  <div id=\"df-cb37b960-d97f-4611-a1c8-e0d62067490d\">\n",
              "    <div class=\"colab-df-container\">\n",
              "      <div>\n",
              "<style scoped>\n",
              "    .dataframe tbody tr th:only-of-type {\n",
              "        vertical-align: middle;\n",
              "    }\n",
              "\n",
              "    .dataframe tbody tr th {\n",
              "        vertical-align: top;\n",
              "    }\n",
              "\n",
              "    .dataframe thead th {\n",
              "        text-align: right;\n",
              "    }\n",
              "</style>\n",
              "<table border=\"1\" class=\"dataframe\">\n",
              "  <thead>\n",
              "    <tr style=\"text-align: right;\">\n",
              "      <th></th>\n",
              "      <th>level_0</th>\n",
              "      <th>index</th>\n",
              "      <th>Serial Number</th>\n",
              "      <th>Country</th>\n",
              "      <th>Total Cases</th>\n",
              "      <th>Total Deaths</th>\n",
              "      <th>Total Recovered</th>\n",
              "      <th>Active Cases</th>\n",
              "      <th>Total Test</th>\n",
              "      <th>Population</th>\n",
              "      <th>Notsupportive</th>\n",
              "    </tr>\n",
              "  </thead>\n",
              "  <tbody>\n",
              "    <tr>\n",
              "      <th>Most Effective</th>\n",
              "      <td>0</td>\n",
              "      <td>Most Effective</td>\n",
              "      <td>1</td>\n",
              "      <td>USA</td>\n",
              "      <td>104,196,861</td>\n",
              "      <td>1,132,935</td>\n",
              "      <td>101,322,779</td>\n",
              "      <td>1,741,147</td>\n",
              "      <td>1,159,832,679</td>\n",
              "      <td>334,805,269</td>\n",
              "      <td>True</td>\n",
              "    </tr>\n",
              "    <tr>\n",
              "      <th>second Most Effective</th>\n",
              "      <td>1</td>\n",
              "      <td>second Most Effective</td>\n",
              "      <td>2</td>\n",
              "      <td>India</td>\n",
              "      <td>44,682,784</td>\n",
              "      <td>530,740</td>\n",
              "      <td>44,150,289</td>\n",
              "      <td>1,755</td>\n",
              "      <td>915,265,788</td>\n",
              "      <td>1,406,631,776</td>\n",
              "      <td>False</td>\n",
              "    </tr>\n",
              "    <tr>\n",
              "      <th>2</th>\n",
              "      <td>2</td>\n",
              "      <td>2</td>\n",
              "      <td>3</td>\n",
              "      <td>France</td>\n",
              "      <td>39,524,311</td>\n",
              "      <td>164,233</td>\n",
              "      <td>39,264,546</td>\n",
              "      <td>95,532</td>\n",
              "      <td>271,490,188</td>\n",
              "      <td>65,584,518</td>\n",
              "      <td>True</td>\n",
              "    </tr>\n",
              "    <tr>\n",
              "      <th>3</th>\n",
              "      <td>3</td>\n",
              "      <td>3</td>\n",
              "      <td>4</td>\n",
              "      <td>Germany</td>\n",
              "      <td>37,779,833</td>\n",
              "      <td>165,711</td>\n",
              "      <td>37,398,100</td>\n",
              "      <td>216,022</td>\n",
              "      <td>122,332,384</td>\n",
              "      <td>83,883,596</td>\n",
              "      <td>True</td>\n",
              "    </tr>\n",
              "    <tr>\n",
              "      <th>4</th>\n",
              "      <td>4</td>\n",
              "      <td>4</td>\n",
              "      <td>5</td>\n",
              "      <td>Brazil</td>\n",
              "      <td>36,824,580</td>\n",
              "      <td>697,074</td>\n",
              "      <td>35,919,372</td>\n",
              "      <td>208,134</td>\n",
              "      <td>63,776,166</td>\n",
              "      <td>215,353,593</td>\n",
              "      <td>False</td>\n",
              "    </tr>\n",
              "  </tbody>\n",
              "</table>\n",
              "</div>\n",
              "      <button class=\"colab-df-convert\" onclick=\"convertToInteractive('df-cb37b960-d97f-4611-a1c8-e0d62067490d')\"\n",
              "              title=\"Convert this dataframe to an interactive table.\"\n",
              "              style=\"display:none;\">\n",
              "        \n",
              "  <svg xmlns=\"http://www.w3.org/2000/svg\" height=\"24px\"viewBox=\"0 0 24 24\"\n",
              "       width=\"24px\">\n",
              "    <path d=\"M0 0h24v24H0V0z\" fill=\"none\"/>\n",
              "    <path d=\"M18.56 5.44l.94 2.06.94-2.06 2.06-.94-2.06-.94-.94-2.06-.94 2.06-2.06.94zm-11 1L8.5 8.5l.94-2.06 2.06-.94-2.06-.94L8.5 2.5l-.94 2.06-2.06.94zm10 10l.94 2.06.94-2.06 2.06-.94-2.06-.94-.94-2.06-.94 2.06-2.06.94z\"/><path d=\"M17.41 7.96l-1.37-1.37c-.4-.4-.92-.59-1.43-.59-.52 0-1.04.2-1.43.59L10.3 9.45l-7.72 7.72c-.78.78-.78 2.05 0 2.83L4 21.41c.39.39.9.59 1.41.59.51 0 1.02-.2 1.41-.59l7.78-7.78 2.81-2.81c.8-.78.8-2.07 0-2.86zM5.41 20L4 18.59l7.72-7.72 1.47 1.35L5.41 20z\"/>\n",
              "  </svg>\n",
              "      </button>\n",
              "      \n",
              "  <style>\n",
              "    .colab-df-container {\n",
              "      display:flex;\n",
              "      flex-wrap:wrap;\n",
              "      gap: 12px;\n",
              "    }\n",
              "\n",
              "    .colab-df-convert {\n",
              "      background-color: #E8F0FE;\n",
              "      border: none;\n",
              "      border-radius: 50%;\n",
              "      cursor: pointer;\n",
              "      display: none;\n",
              "      fill: #1967D2;\n",
              "      height: 32px;\n",
              "      padding: 0 0 0 0;\n",
              "      width: 32px;\n",
              "    }\n",
              "\n",
              "    .colab-df-convert:hover {\n",
              "      background-color: #E2EBFA;\n",
              "      box-shadow: 0px 1px 2px rgba(60, 64, 67, 0.3), 0px 1px 3px 1px rgba(60, 64, 67, 0.15);\n",
              "      fill: #174EA6;\n",
              "    }\n",
              "\n",
              "    [theme=dark] .colab-df-convert {\n",
              "      background-color: #3B4455;\n",
              "      fill: #D2E3FC;\n",
              "    }\n",
              "\n",
              "    [theme=dark] .colab-df-convert:hover {\n",
              "      background-color: #434B5C;\n",
              "      box-shadow: 0px 1px 3px 1px rgba(0, 0, 0, 0.15);\n",
              "      filter: drop-shadow(0px 1px 2px rgba(0, 0, 0, 0.3));\n",
              "      fill: #FFFFFF;\n",
              "    }\n",
              "  </style>\n",
              "\n",
              "      <script>\n",
              "        const buttonEl =\n",
              "          document.querySelector('#df-cb37b960-d97f-4611-a1c8-e0d62067490d button.colab-df-convert');\n",
              "        buttonEl.style.display =\n",
              "          google.colab.kernel.accessAllowed ? 'block' : 'none';\n",
              "\n",
              "        async function convertToInteractive(key) {\n",
              "          const element = document.querySelector('#df-cb37b960-d97f-4611-a1c8-e0d62067490d');\n",
              "          const dataTable =\n",
              "            await google.colab.kernel.invokeFunction('convertToInteractive',\n",
              "                                                     [key], {});\n",
              "          if (!dataTable) return;\n",
              "\n",
              "          const docLinkHtml = 'Like what you see? Visit the ' +\n",
              "            '<a target=\"_blank\" href=https://colab.research.google.com/notebooks/data_table.ipynb>data table notebook</a>'\n",
              "            + ' to learn more about interactive tables.';\n",
              "          element.innerHTML = '';\n",
              "          dataTable['output_type'] = 'display_data';\n",
              "          await google.colab.output.renderOutput(dataTable, element);\n",
              "          const docLink = document.createElement('div');\n",
              "          docLink.innerHTML = docLinkHtml;\n",
              "          element.appendChild(docLink);\n",
              "        }\n",
              "      </script>\n",
              "    </div>\n",
              "  </div>\n",
              "  "
            ]
          },
          "metadata": {},
          "execution_count": 158
        }
      ]
    },
    {
      "cell_type": "code",
      "source": [
        "drive_df.loc[2:5, \"Total Cases\"]\n",
        "#Takes Labels as \n",
        "#df.loc[row_label, column_label]"
      ],
      "metadata": {
        "id": "64766pEBuN0q"
      },
      "execution_count": null,
      "outputs": []
    },
    {
      "cell_type": "code",
      "source": [
        "#Selecting and Sorting  Data using bool, comp and new col"
      ],
      "metadata": {
        "id": "KibtTclguV_1"
      },
      "execution_count": null,
      "outputs": []
    },
    {
      "cell_type": "code",
      "source": [
        "#Boolean\n",
        "mask = [False for _ in range(len(drive_df))]\n",
        "mask[3:7] = [True] * 4\n",
        "mask"
      ],
      "metadata": {
        "id": "I5zed4Q73AnL"
      },
      "execution_count": null,
      "outputs": []
    },
    {
      "cell_type": "code",
      "source": [
        "drive_df.iloc[mask]"
      ],
      "metadata": {
        "id": "niNWYnec3nsK"
      },
      "execution_count": null,
      "outputs": []
    },
    {
      "cell_type": "code",
      "source": [
        "mask = drive_df.loc[:,\"Total Test\"] > drive_df.loc[:, \"Population\"]\n",
        "mask"
      ],
      "metadata": {
        "id": "isf6J_ZO3q-4"
      },
      "execution_count": null,
      "outputs": []
    },
    {
      "cell_type": "code",
      "source": [
        "drive_df.loc[:,\"Notsupportive\"] = drive_df.loc[:,\"Total Test\"] < drive_df.loc[:, \"Population\"]"
      ],
      "metadata": {
        "id": "Oaseau9z4-y3"
      },
      "execution_count": null,
      "outputs": []
    },
    {
      "cell_type": "code",
      "source": [
        "drive_df[\"Notsupportive\"]"
      ],
      "metadata": {
        "id": "NfYjHyuo-fvv"
      },
      "execution_count": null,
      "outputs": []
    },
    {
      "cell_type": "code",
      "source": [
        "#Manipulation\n",
        "#Rename, Drop, Set column name"
      ],
      "metadata": {
        "id": "8NX4TQa7-7hv"
      },
      "execution_count": null,
      "outputs": []
    },
    {
      "cell_type": "code",
      "source": [
        "covid = drive_df"
      ],
      "metadata": {
        "id": "PNXocsDK_Fmb"
      },
      "execution_count": null,
      "outputs": []
    },
    {
      "cell_type": "code",
      "source": [
        "covid.rename(columns={\"Total Deaths\":\"PeopleDied\"})"
      ],
      "metadata": {
        "id": "6Jh-Y4Qx_Rwx"
      },
      "execution_count": null,
      "outputs": []
    },
    {
      "cell_type": "code",
      "source": [
        "covid.rename(index={0:\"Most Effective\",1:\"second Most Effective\"}, inplace = True)"
      ],
      "metadata": {
        "id": "DvQ748jP_XnV"
      },
      "execution_count": null,
      "outputs": []
    },
    {
      "cell_type": "code",
      "source": [
        "covid"
      ],
      "metadata": {
        "id": "jvWMz7Q5AMtz"
      },
      "execution_count": null,
      "outputs": []
    },
    {
      "cell_type": "code",
      "source": [
        "covid.drop(columns=\"Total Cases\")"
      ],
      "metadata": {
        "id": "h65REmkTA57G"
      },
      "execution_count": null,
      "outputs": []
    },
    {
      "cell_type": "code",
      "source": [
        "covid.rename(columns={\"Total Deaths\":\"PeopleDied\"})\n"
      ],
      "metadata": {
        "id": "C_cq9tQEBnIQ"
      },
      "execution_count": null,
      "outputs": []
    },
    {
      "cell_type": "markdown",
      "source": [
        "Update Data"
      ],
      "metadata": {
        "id": "_KbJY-MCDgzA"
      }
    },
    {
      "cell_type": "code",
      "source": [
        "#oldDf.append(newDF)\n",
        "# adding two df together"
      ],
      "metadata": {
        "id": "5F_E7jOlDifg"
      },
      "execution_count": null,
      "outputs": []
    },
    {
      "cell_type": "code",
      "source": [
        "#df.loc[row(range),\"col\"]=\"new value\""
      ],
      "metadata": {
        "id": "3vayJ7f4Ec2y"
      },
      "execution_count": null,
      "outputs": []
    },
    {
      "cell_type": "code",
      "source": [
        "#df.column += 1\n",
        "#replace all values in the DF\n",
        "#df.replace(oldvalue,newvalue)\n",
        "#replace mostly helpful if we want to sub. null values in the DF"
      ],
      "metadata": {
        "id": "PgODL6NLEyUr"
      },
      "execution_count": null,
      "outputs": []
    },
    {
      "cell_type": "markdown",
      "source": [
        "Functions to DF"
      ],
      "metadata": {
        "id": "dBDv2HFCF2ZX"
      }
    },
    {
      "cell_type": "code",
      "source": [
        "sum(range(9))"
      ],
      "metadata": {
        "id": "tutniEaxF5Qk"
      },
      "execution_count": null,
      "outputs": []
    },
    {
      "cell_type": "code",
      "source": [
        "#drive_df.apply(sum,axis=1)"
      ],
      "metadata": {
        "id": "U-TStTkvGNtr"
      },
      "execution_count": null,
      "outputs": []
    },
    {
      "cell_type": "code",
      "source": [
        "#expand helps to df view as table"
      ],
      "metadata": {
        "id": "h8wTR5iRGwWD"
      },
      "execution_count": null,
      "outputs": []
    },
    {
      "cell_type": "code",
      "source": [
        "#df.column.apply(fun_name)"
      ],
      "metadata": {
        "id": "oT8m80JrHh0G"
      },
      "execution_count": null,
      "outputs": []
    },
    {
      "cell_type": "markdown",
      "source": [
        "NUMPY Arrays"
      ],
      "metadata": {
        "id": "6fsBnmH-Hzzu"
      }
    },
    {
      "cell_type": "code",
      "source": [
        "#Designed package for Scientific Comp built in Ndarray\n",
        "#Has Computational Tools, scientific and mathematical libraries\n"
      ],
      "metadata": {
        "id": "ZhInNvKnH2D7"
      },
      "execution_count": null,
      "outputs": []
    },
    {
      "cell_type": "code",
      "source": [
        "#ndarray =  set size, single Datatype, can be reashaped"
      ],
      "metadata": {
        "id": "W9g_iGsaINOI"
      },
      "execution_count": null,
      "outputs": []
    },
    {
      "cell_type": "code",
      "source": [
        "import numpy as np"
      ],
      "metadata": {
        "id": "TPwZmfD4Iu5_"
      },
      "execution_count": null,
      "outputs": []
    },
    {
      "cell_type": "code",
      "source": [
        "data = [1,2,3,4]\n",
        "first_array = np.array(data)\n",
        "first_array"
      ],
      "metadata": {
        "id": "QfwxI6tfIzlL"
      },
      "execution_count": null,
      "outputs": []
    },
    {
      "cell_type": "code",
      "source": [
        "list_data = [[1,2,3,4],\n",
        "        [5,6,7,8],\n",
        "        [9,10,11,12]]\n",
        "my_array = np.array(list_data)\n",
        "my_array"
      ],
      "metadata": {
        "id": "jk_a-SErJL1u"
      },
      "execution_count": null,
      "outputs": []
    },
    {
      "cell_type": "code",
      "source": [
        "np.ones(12)"
      ],
      "metadata": {
        "id": "lzm4w-CcJzWm"
      },
      "execution_count": null,
      "outputs": []
    },
    {
      "cell_type": "code",
      "source": [
        "np.zeros(3)"
      ],
      "metadata": {
        "id": "INYUQKa6J3yV"
      },
      "execution_count": null,
      "outputs": []
    },
    {
      "cell_type": "code",
      "source": [
        "np.arange(10)"
      ],
      "metadata": {
        "id": "JDGu8gAeJ71u"
      },
      "execution_count": null,
      "outputs": []
    },
    {
      "cell_type": "code",
      "source": [
        "np.arange(3,33,3)"
      ],
      "metadata": {
        "id": "X183_7FOKAHW"
      },
      "execution_count": null,
      "outputs": []
    },
    {
      "cell_type": "markdown",
      "source": [
        "Dimensions"
      ],
      "metadata": {
        "id": "Z2t29M62KSKs"
      }
    },
    {
      "cell_type": "code",
      "source": [
        "ones = np.arange(21)\n",
        "ones"
      ],
      "metadata": {
        "id": "utBL8VyYKTOh"
      },
      "execution_count": null,
      "outputs": []
    },
    {
      "cell_type": "code",
      "source": [
        "ones.shape"
      ],
      "metadata": {
        "id": "4Ugl62rwKfwy"
      },
      "execution_count": null,
      "outputs": []
    },
    {
      "cell_type": "code",
      "source": [
        "ones.ndim"
      ],
      "metadata": {
        "id": "gu_n7_W2KlzE"
      },
      "execution_count": null,
      "outputs": []
    },
    {
      "cell_type": "code",
      "source": [
        "ones.size"
      ],
      "metadata": {
        "id": "iIZYwIXLKoAU"
      },
      "execution_count": null,
      "outputs": []
    },
    {
      "cell_type": "code",
      "source": [
        "my_array.ndim"
      ],
      "metadata": {
        "id": "y_ojc8qgKrvV"
      },
      "execution_count": null,
      "outputs": []
    },
    {
      "cell_type": "code",
      "source": [
        "my_array.size"
      ],
      "metadata": {
        "id": "gRerEX3WPL4y"
      },
      "execution_count": null,
      "outputs": []
    },
    {
      "cell_type": "code",
      "source": [
        "my_array.shape"
      ],
      "metadata": {
        "id": "dXXSCEYJPNvz"
      },
      "execution_count": null,
      "outputs": []
    },
    {
      "cell_type": "code",
      "source": [
        "oned = np.arange(12)\n",
        "oned"
      ],
      "metadata": {
        "id": "YCCmNcK0PP8R"
      },
      "execution_count": null,
      "outputs": []
    },
    {
      "cell_type": "code",
      "source": [
        "oned.shape"
      ],
      "metadata": {
        "id": "hG0cUVqkPifS"
      },
      "execution_count": null,
      "outputs": []
    },
    {
      "cell_type": "code",
      "source": [
        "twod = oned.reshape(3,4)"
      ],
      "metadata": {
        "id": "KvF-j1dnPVTD"
      },
      "execution_count": null,
      "outputs": []
    },
    {
      "cell_type": "code",
      "source": [
        "twod"
      ],
      "metadata": {
        "id": "FnMCz13BPnGA"
      },
      "execution_count": null,
      "outputs": []
    },
    {
      "cell_type": "code",
      "source": [
        "twod.shape"
      ],
      "metadata": {
        "id": "2zSTdSn2Poi-"
      },
      "execution_count": null,
      "outputs": []
    },
    {
      "cell_type": "code",
      "source": [
        "twod.ndim"
      ],
      "metadata": {
        "id": "mZxYMwgpP0_1"
      },
      "execution_count": null,
      "outputs": []
    },
    {
      "cell_type": "code",
      "source": [
        "twod.reshape(2,2,3)"
      ],
      "metadata": {
        "id": "gpOFWNSaQBPV"
      },
      "execution_count": null,
      "outputs": []
    },
    {
      "cell_type": "code",
      "source": [
        "darray = np.arange(101, dtype =np.int8)"
      ],
      "metadata": {
        "id": "SWNrCFV1QM5T"
      },
      "execution_count": null,
      "outputs": []
    },
    {
      "cell_type": "code",
      "source": [
        "darray"
      ],
      "metadata": {
        "id": "JGNQL8uuQv7Q"
      },
      "execution_count": null,
      "outputs": []
    },
    {
      "cell_type": "code",
      "source": [
        "darray.dtype"
      ],
      "metadata": {
        "id": "XJA9NOWWRy75"
      },
      "execution_count": null,
      "outputs": []
    },
    {
      "cell_type": "code",
      "source": [
        "darray.nbytes"
      ],
      "metadata": {
        "id": "6JdMbQCGR2KD"
      },
      "execution_count": null,
      "outputs": []
    },
    {
      "cell_type": "code",
      "source": [
        "darray[12] = 9"
      ],
      "metadata": {
        "id": "t5AWvWCrR4p-"
      },
      "execution_count": null,
      "outputs": []
    },
    {
      "cell_type": "code",
      "source": [
        "darray"
      ],
      "metadata": {
        "id": "3nKUbgAISCbK"
      },
      "execution_count": null,
      "outputs": []
    },
    {
      "cell_type": "markdown",
      "source": [
        "Broadcasting"
      ],
      "metadata": {
        "id": "UDMJMpdPSLh-"
      }
    },
    {
      "cell_type": "code",
      "source": [
        "A0 = np.arange(9)\n",
        "A0"
      ],
      "metadata": {
        "colab": {
          "base_uri": "https://localhost:8080/"
        },
        "id": "xG2Pu2LQSNzi",
        "outputId": "1d200fba-4e84-4762-faa9-7e209c75b7ba"
      },
      "execution_count": null,
      "outputs": [
        {
          "output_type": "execute_result",
          "data": {
            "text/plain": [
              "array([0, 1, 2, 3, 4, 5, 6, 7, 8])"
            ]
          },
          "metadata": {},
          "execution_count": 274
        }
      ]
    },
    {
      "cell_type": "code",
      "source": [
        "A1 = A0.reshape(3,3)"
      ],
      "metadata": {
        "id": "bqOg1WlFSXCq"
      },
      "execution_count": null,
      "outputs": []
    },
    {
      "cell_type": "code",
      "source": [
        "A1"
      ],
      "metadata": {
        "id": "Qf-jMbCIScC3"
      },
      "execution_count": null,
      "outputs": []
    },
    {
      "cell_type": "code",
      "source": [
        "A2 = np.ones(9)"
      ],
      "metadata": {
        "id": "D56N364HSnbD"
      },
      "execution_count": null,
      "outputs": []
    },
    {
      "cell_type": "code",
      "source": [
        "A3 = A2.reshape(3,3)"
      ],
      "metadata": {
        "id": "S4fAqSygTDfu"
      },
      "execution_count": null,
      "outputs": []
    },
    {
      "cell_type": "code",
      "source": [
        "A3"
      ],
      "metadata": {
        "id": "VVx60fAhTH82"
      },
      "execution_count": null,
      "outputs": []
    },
    {
      "cell_type": "code",
      "source": [
        "A1.shape"
      ],
      "metadata": {
        "id": "saxqYgiETYXn"
      },
      "execution_count": null,
      "outputs": []
    },
    {
      "cell_type": "code",
      "source": [
        "A3.shape"
      ],
      "metadata": {
        "id": "jmhh7-iDTckQ"
      },
      "execution_count": null,
      "outputs": []
    },
    {
      "cell_type": "code",
      "source": [
        "A1 + A3"
      ],
      "metadata": {
        "id": "sAGJZ530TeOq"
      },
      "execution_count": null,
      "outputs": []
    },
    {
      "cell_type": "code",
      "source": [
        "A1 + 3"
      ],
      "metadata": {
        "id": "9408sMXATkvX"
      },
      "execution_count": null,
      "outputs": []
    },
    {
      "cell_type": "code",
      "source": [
        "A1"
      ],
      "metadata": {
        "id": "w4kAA_6iTvO2"
      },
      "execution_count": null,
      "outputs": []
    },
    {
      "cell_type": "code",
      "source": [
        "A3.shape"
      ],
      "metadata": {
        "id": "EtXp6nzCTw7j"
      },
      "execution_count": null,
      "outputs": []
    },
    {
      "cell_type": "code",
      "source": [
        "A4 = np.arange(10).reshape(2,1,5)\n",
        "A4"
      ],
      "metadata": {
        "id": "_atTnjRwUDWs"
      },
      "execution_count": null,
      "outputs": []
    },
    {
      "cell_type": "code",
      "source": [
        "A5 = np.arange(14).reshape(2,7,1)\n",
        "A5"
      ],
      "metadata": {
        "id": "hw0ygWo7UeA3"
      },
      "execution_count": null,
      "outputs": []
    },
    {
      "cell_type": "code",
      "source": [
        "A6 = A4 + A5\n",
        "A6"
      ],
      "metadata": {
        "id": "75vw2W4oVZZ1"
      },
      "execution_count": null,
      "outputs": []
    },
    {
      "cell_type": "code",
      "source": [
        "A6.shape"
      ],
      "metadata": {
        "id": "lOwehxvmVp8C"
      },
      "execution_count": null,
      "outputs": []
    },
    {
      "cell_type": "markdown",
      "source": [
        "Matrix Operations"
      ],
      "metadata": {
        "id": "5UjQsHAnXKXD"
      }
    },
    {
      "cell_type": "code",
      "source": [
        "M1 = np.arange(9).reshape(3,3)\n",
        "M2 = np.arange(2,11).reshape(3,3)"
      ],
      "metadata": {
        "id": "jMYj3g7nXMXF"
      },
      "execution_count": null,
      "outputs": []
    },
    {
      "cell_type": "code",
      "source": [
        "M1"
      ],
      "metadata": {
        "id": "lUxT2TGZXw__"
      },
      "execution_count": null,
      "outputs": []
    },
    {
      "cell_type": "code",
      "source": [
        "M2"
      ],
      "metadata": {
        "id": "mCtQp_MJYNUL"
      },
      "execution_count": null,
      "outputs": []
    },
    {
      "cell_type": "code",
      "source": [
        "M1.transpose()"
      ],
      "metadata": {
        "id": "eWuYwJ0ZXcaM"
      },
      "execution_count": null,
      "outputs": []
    },
    {
      "cell_type": "code",
      "source": [
        "M1.diagonal()"
      ],
      "metadata": {
        "id": "kqGYoKPWX3zp"
      },
      "execution_count": null,
      "outputs": []
    },
    {
      "cell_type": "code",
      "source": [
        "M1 @ M2"
      ],
      "metadata": {
        "id": "2jf7uLgaYGth"
      },
      "execution_count": null,
      "outputs": []
    },
    {
      "cell_type": "markdown",
      "source": [
        "![Screenshot 2023-03-25 194718.png](data:image/png;base64,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)"
      ],
      "metadata": {
        "id": "kXsMjRYwYfg-"
      }
    },
    {
      "cell_type": "markdown",
      "source": [
        "PANDAS limited to\n",
        "Single Machine\n",
        "Perf. depends on machine\n",
        "chunking data \n",
        "Upper limit 100GB based on Chunking"
      ],
      "metadata": {
        "id": "P3u2aKO8bgTW"
      }
    }
  ]
}
